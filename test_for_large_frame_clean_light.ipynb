{
 "cells": [
  {
   "cell_type": "markdown",
   "metadata": {},
   "source": [
    "Simple test of app/pipeline.py in jupyter notebook.\n",
    "This file made use of functions from app/pipeline.py, but I did a slight modifications. \n",
    "Most importantly, I often deleted \"self\" or \"self.\" from the functions."
   ]
  },
  {
   "cell_type": "markdown",
   "metadata": {},
   "source": [
    "# Where should this jupyter notebook located?"
   ]
  },
  {
   "cell_type": "code",
   "execution_count": 1,
   "metadata": {},
   "outputs": [
    {
     "data": {
      "text/plain": [
       "'/Users/kohei/JASMINE/from_kyoto/analysis_sandbox_kohei_distortion'"
      ]
     },
     "execution_count": 1,
     "metadata": {},
     "output_type": "execute_result"
    }
   ],
   "source": [
    "%pwd"
   ]
  },
  {
   "cell_type": "code",
   "execution_count": 2,
   "metadata": {},
   "outputs": [
    {
     "name": "stdout",
     "output_type": "stream",
     "text": [
      "total 51040\r\n",
      "drwxr-xr-x  15 kohei  staff      480 Jan 11 04:07 \u001b[34m-mksamplefits_old\u001b[m\u001b[m/\r\n",
      "-rw-r--r--   1 kohei  staff     1066 Jan  7 22:13 Dockerfile.build\r\n",
      "-rw-r--r--   1 kohei  staff     3059 Jan  7 22:13 Jenkinsfile\r\n",
      "-rw-r--r--   1 kohei  staff    13671 Jan  7 22:12 MANUAL.md\r\n",
      "-rw-r--r--   1 kohei  staff     7272 Jan  7 22:13 README.md\r\n",
      "-rw-r--r--   1 kohei  staff     1260 Jan  7 22:12 REFURBISHMENT.md\r\n",
      "drwxr-xr-x  16 kohei  staff      512 Jan 13 15:19 \u001b[34mapp\u001b[m\u001b[m/\r\n",
      "drwxr-xr-x  11 kohei  staff      352 Jan  7 22:13 \u001b[34mcommon\u001b[m\u001b[m/\r\n",
      "drwxr-xr-x   5 kohei  staff      160 Jan  7 22:12 \u001b[34mconfig\u001b[m\u001b[m/\r\n",
      "drwxr-xr-x   4 kohei  staff      128 Jan  7 22:13 \u001b[34mdoc\u001b[m\u001b[m/\r\n",
      "drwxr-xr-x   7 kohei  staff      224 Jan 11 21:18 \u001b[34mestimation\u001b[m\u001b[m/\r\n",
      "drwxr-xr-x   8 kohei  staff      256 Jan 13 10:07 \u001b[34mimage\u001b[m\u001b[m/\r\n",
      "drwxr-xr-x  16 kohei  staff      512 Jan 11 23:13 \u001b[34mmksamplefits\u001b[m\u001b[m/\r\n",
      "drwxr-xr-x  13 kohei  staff      416 Jan 11 23:28 \u001b[34mmksamplefits2_static\u001b[m\u001b[m/\r\n",
      "drwxr-xr-x  12 kohei  staff      384 Jan 12 05:48 \u001b[34mmksamplefits3_single_star\u001b[m\u001b[m/\r\n",
      "drwxr-xr-x   6 kohei  staff      192 Jan  7 22:12 \u001b[34moutput\u001b[m\u001b[m/\r\n",
      "drwxr-xr-x   7 kohei  staff      224 Jan 11 22:54 \u001b[34moutputdir_stellar_motion_1\u001b[m\u001b[m/\r\n",
      "drwxr-xr-x   7 kohei  staff      224 Jan 11 22:56 \u001b[34moutputdir_stellar_motion_2\u001b[m\u001b[m/\r\n",
      "drwxr-xr-x   4 kohei  staff      128 Jan 13 14:43 \u001b[34moutputdir_stellar_motion_3\u001b[m\u001b[m/\r\n",
      "drwxr-xr-x   7 kohei  staff      224 Jan 12 02:21 \u001b[34moutputdir_stellar_motion_3_original\u001b[m\u001b[m/\r\n",
      "-rw-r--r--   1 kohei  staff   118712 Jan 14 19:01 pixel_data.npy\r\n",
      "-rw-r--r--   1 kohei  staff      173 Jan  7 22:12 requirements.txt\r\n",
      "-rw-r--r--   1 kohei  staff   258680 Jan 11 18:07 save_pixel_data.npy\r\n",
      "-rw-r--r--   1 kohei  staff  7216827 Jan 14 13:21 test_for_large_frame-Copy1.ipynb\r\n",
      "-rw-r--r--   1 kohei  staff  7216641 Jan 14 12:39 test_for_large_frame.ipynb\r\n",
      "-rw-r--r--   1 kohei  staff  7205869 Jan 14 13:22 test_for_large_frame_clean.ipynb\r\n",
      "-rw-r--r--   1 kohei  staff  4043396 Jan 14 19:02 test_for_large_frame_clean_light.ipynb\r\n",
      "drwxr-xr-x   9 kohei  staff      288 Jan 13 03:31 \u001b[34mtests\u001b[m\u001b[m/\r\n",
      "-rw-r--r--@  1 kohei  staff      684 Jan 11 17:21 ttt.txt\r\n",
      "drwxr-xr-x   8 kohei  staff      256 Jan  7 22:13 \u001b[34munitapp\u001b[m\u001b[m/\r\n"
     ]
    }
   ],
   "source": [
    "%ls -l"
   ]
  },
  {
   "cell_type": "code",
   "execution_count": 3,
   "metadata": {},
   "outputs": [
    {
     "name": "stdout",
     "output_type": "stream",
     "text": [
      "total 200\r\n",
      "-rw-r--r--  1 kohei  staff      0 Jan  7 22:13 __init__.py\r\n",
      "drwxr-xr-x  7 kohei  staff    224 Jan 12 06:12 \u001b[34m__pycache__\u001b[m\u001b[m/\r\n",
      "-rw-r--r--@ 1 kohei  staff  15553 Jan 11 22:40 calculate_center_position.py\r\n",
      "-rw-r--r--@ 1 kohei  staff   1393 Jan  7 22:13 calculate_star_position.py\r\n",
      "-rw-r--r--  1 kohei  staff   6189 Jan  7 22:13 generate_image_data.py\r\n",
      "-rw-r--r--  1 kohei  staff   4110 Jan  7 22:13 generate_star_center.py\r\n",
      "-rw-r--r--@ 1 kohei  staff    519 Jan  7 22:13 pipeline.json\r\n",
      "-rw-r--r--@ 1 kohei  staff  36919 Jan 11 23:12 pipeline.py\r\n",
      "-rw-r--r--@ 1 kohei  staff    608 Jan 11 23:01 pipeline_stellar_motion_1.json\r\n",
      "-rw-r--r--@ 1 kohei  staff    624 Jan 11 23:18 pipeline_stellar_motion_2_static.json\r\n",
      "-rw-r--r--@ 1 kohei  staff    634 Jan 12 05:57 pipeline_stellar_motion_3.json\r\n",
      "-rw-r--r--@ 1 kohei  staff    630 Jan 13 15:19 pipeline_stellar_motion_4.json\r\n",
      "-rw-r--r--  1 kohei  staff   1251 Jan  7 22:13 reverse_calculation_of_psf.py\r\n"
     ]
    }
   ],
   "source": [
    "%ls -l app/"
   ]
  },
  {
   "cell_type": "code",
   "execution_count": 4,
   "metadata": {},
   "outputs": [
    {
     "name": "stdout",
     "output_type": "stream",
     "text": [
      "/Users/kohei/JASMINE/from_kyoto/analysis_sandbox_kohei_distortion/estimation/psf.py 10\n"
     ]
    }
   ],
   "source": [
    "import argparse\n",
    "import csv\n",
    "import importlib\n",
    "import pathlib\n",
    "import sys\n",
    "import os\n",
    "import json\n",
    "\n",
    "#sys.path.append('../../')#kohei\n",
    "sys.path.append('../')#kohei\n",
    "#sys.path.append(str(pathlib.Path(__file__).resolve().parent) + '/../')\n",
    "\n",
    "from config.module import np_module\n",
    "from common.logger import Logger\n",
    "from common.listutil import ListUtil\n",
    "from app.calculate_center_position import CenterCalculator\n",
    "from image.large_frame_processor import LargeFrameProcessor\n",
    "from image.distortion import MappedStarObservationsOnPlate, DistortionCalculator, DistortionParameters\n",
    "from estimation.position import MappedStarObservations, PositionEstimation\n",
    "\n",
    "np = importlib.import_module(np_module)\n",
    "\n",
    "logger = Logger(__name__)\n",
    "\n",
    "#kohei\n",
    "import sys\n",
    "from inspect import currentframe, getframeinfo\n",
    "frameinfo = getframeinfo(currentframe())\n",
    "#print(frameinfo.filename, frameinfo.lineno)\n"
   ]
  },
  {
   "cell_type": "code",
   "execution_count": 5,
   "metadata": {},
   "outputs": [],
   "source": [
    "from matplotlib import pyplot\n",
    "\n",
    "import logging\n",
    "logger = logging.getLogger()\n",
    "logger.setLevel(logging.CRITICAL)"
   ]
  },
  {
   "cell_type": "markdown",
   "metadata": {},
   "source": [
    "# Read json file"
   ]
  },
  {
   "cell_type": "code",
   "execution_count": 6,
   "metadata": {},
   "outputs": [],
   "source": [
    "f = open('/Users/kohei/JASMINE/from_kyoto/analysis_sandbox_kohei_distortion/app/pipeline_stellar_motion_3.json')"
   ]
  },
  {
   "cell_type": "code",
   "execution_count": 7,
   "metadata": {},
   "outputs": [
    {
     "name": "stdout",
     "output_type": "stream",
     "text": [
      "{\r\n",
      "    \"framecsvpath\": \"mksamplefits3_single_star/dataset/frames.csv\",\r\n",
      "    \"outputdir\": \"outputdir_stellar_motion_3\",\r\n",
      "    \"brighterthreshold\": 20000,\r\n",
      "    \"darkerthreshold\": 16000,\r\n",
      "    \"dpixel\": 2.6E-06,\r\n",
      "    \"starimagesize\": 9,\r\n",
      "    \"centeriteration\": 20,\r\n",
      "    \"positioniteration\": 20,\r\n",
      "    \"lighterstarsamerange\": 20.0,\r\n",
      "    \"darkerstarsamerange\": 4.0,\r\n",
      "    \"largeframesamerange\": 4.0,\r\n",
      "    \"positiontosolve\": 2,\r\n",
      "    \"xmagnification\": 3,\r\n",
      "    \"ymagnification\": 3,\r\n",
      "    \"knownstarspath\": \"mksamplefits3_single_star/dataset/known_stars.csv\", \"knownstarsneighborhood\": 10.0,\r\n",
      "    \"plateparameterdimension\": 5,\r\n",
      "    \"psfbrightnessthreshold\": 2000\r\n",
      "}\r\n"
     ]
    }
   ],
   "source": [
    "%cat app/pipeline_stellar_motion_3.json"
   ]
  },
  {
   "cell_type": "code",
   "execution_count": 8,
   "metadata": {},
   "outputs": [],
   "source": [
    "json_data = json.load(f)"
   ]
  },
  {
   "cell_type": "code",
   "execution_count": 9,
   "metadata": {},
   "outputs": [],
   "source": [
    "frame_csv_path=json_data['framecsvpath']\n",
    "output_directory=json_data['outputdir']\n",
    "brighter_threshold=json_data['brighterthreshold']\n",
    "darker_threshold=json_data['darkerthreshold']\n",
    "dpixel=json_data['dpixel']\n",
    "star_image_size=json_data['starimagesize']\n",
    "lighter_star_same_range=json_data['lighterstarsamerange']\n",
    "darker_star_same_range=json_data['darkerstarsamerange']\n",
    "large_frame_same_range=json_data['largeframesamerange']\n",
    "center_iteration=json_data['centeriteration']\n",
    "x_magnification=json_data['xmagnification']\n",
    "y_magnification=json_data['ymagnification']\n",
    "position_to_solve=json_data['positiontosolve']\n",
    "position_iteration=json_data['positioniteration']\n",
    "known_stars_path=json_data['knownstarspath']\n",
    "known_stars_neighborhood=json_data['knownstarsneighborhood']\n",
    "plate_parameter_dimension=json_data['plateparameterdimension']\n",
    "psf_brightness_threshold=json_data['psfbrightnessthreshold']"
   ]
  },
  {
   "cell_type": "code",
   "execution_count": 10,
   "metadata": {},
   "outputs": [],
   "source": [
    "lighter_star_same_ecliptic_range = lighter_star_same_range * dpixel\n",
    "known_stars_ecliptic_neighborhood = known_stars_neighborhood * dpixel\n",
    "darker_star_same_ecliptic_range = darker_star_same_range * dpixel\n",
    "\n",
    "\n"
   ]
  },
  {
   "cell_type": "code",
   "execution_count": 11,
   "metadata": {},
   "outputs": [],
   "source": [
    "\n",
    "class LargeFrameInfo:\n",
    "    \"\"\"\n",
    "    Large frame information.\n",
    "    \"\"\"\n",
    "\n",
    "    def __init__(self, csv_rows, csv_dir):\n",
    "        \"\"\"\n",
    "        Initialize object.\n",
    "\n",
    "        Parameters\n",
    "        ----------\n",
    "        csv_rows: list\n",
    "            List of CSV rows\n",
    "        csv_dir: str\n",
    "            CSV file path\n",
    "        \"\"\"\n",
    "        self.__directory = pathlib.Path(csv_dir).parent.joinpath(csv_rows[0])\n",
    "        self.__time = float(csv_rows[1])\n",
    "        self.__longitude = float(csv_rows[2])\n",
    "\n",
    "    @property\n",
    "    def directory(self):\n",
    "        return str(self.__directory)\n",
    "\n",
    "    @property\n",
    "    def time(self):\n",
    "        return self.__time\n",
    "\n",
    "    @property\n",
    "    def longitude(self):\n",
    "        return self.__longitude\n",
    "\n",
    "    def get_star_center_file_name(self):\n",
    "        return 'center_' + self.__directory.resolve().name + '.csv'\n",
    "\n",
    "    def get_plate_parameter_file_name(self):\n",
    "        return 'plate_' + self.__directory.resolve().name + '.csv'"
   ]
  },
  {
   "cell_type": "code",
   "execution_count": 12,
   "metadata": {},
   "outputs": [],
   "source": [
    "def __parse_frame_csv():\n",
    "    \"\"\"\n",
    "    Load large frame information file.\n",
    "\n",
    "    Returns\n",
    "    -------\n",
    "    large_frame_info_list: list\n",
    "        List of LargeFrameInfo\n",
    "    \"\"\"\n",
    "    with open(frame_csv_path) as fr:\n",
    "        reader = csv.reader(fr)\n",
    "        next(reader)\n",
    "        return [LargeFrameInfo(r, frame_csv_path) for r in reader]\n",
    "large_frame_info_list = __parse_frame_csv()"
   ]
  },
  {
   "cell_type": "code",
   "execution_count": 13,
   "metadata": {},
   "outputs": [],
   "source": [
    "def __parse_known_stars_csv():\n",
    "    \"\"\"\n",
    "    Parse known stars CSV file.\n",
    "\n",
    "    Returns\n",
    "    -------\n",
    "    known_stars: np.array (2 order)\n",
    "        List of (star id ( = -1), lambda, beta, mu lambda, mu beta, pi)\n",
    "    \"\"\"\n",
    "    if os.path.exists(known_stars_path):\n",
    "        with open(known_stars_path) as fr:\n",
    "            reader = csv.reader(fr)\n",
    "            next(reader)\n",
    "            # element is (star id, lambda, beta, mu lambda, mu beta, pi)\n",
    "            # -1 of star id means not mapped\n",
    "            return np.array([[-1, float(r[0]), float(r[1]), float(r[2]), float(r[3]), float(r[4])] for r in reader])\n",
    "\n",
    "    logger.warn('Known stars position file %s is not found.', known_stars_path[0])\n",
    "    return np.array([])\n",
    "\n",
    "known_star_params=__parse_known_stars_csv()"
   ]
  },
  {
   "cell_type": "code",
   "execution_count": 14,
   "metadata": {},
   "outputs": [],
   "source": [
    "\n",
    "# parse each large frame\n",
    "plate_id_offset = 1\n",
    "all_star_data = []\n",
    "star_id_lambda_beta_list = []\n",
    "time_list = []\n",
    "plate_data_list = []\n",
    "c_plate_parameter_list = []\n",
    "d_plate_parameter_list = []"
   ]
  },
  {
   "cell_type": "code",
   "execution_count": 15,
   "metadata": {},
   "outputs": [
    {
     "name": "stdout",
     "output_type": "stream",
     "text": [
      "mksamplefits3_single_star/dataset/frame00000\n",
      "center_frame00000.csv\n",
      "plate_frame00000.csv\n",
      "1\n",
      "[[-1.00000000e+00  4.64687383e+00 -9.55758431e-02  3.85391903e-05\n",
      "   3.52756613e-05  3.65979487e-05]\n",
      " [-1.00000000e+00  4.65138149e+00 -9.01716796e-02  2.66450707e-05\n",
      "   4.00768546e-06  2.27972941e-05]\n",
      " [-1.00000000e+00  4.64534257e+00 -8.80898088e-02  4.73539003e-05\n",
      "   1.67675388e-05  1.54702965e-05]\n",
      " ...\n",
      " [-1.00000000e+00  4.64875331e+00 -9.97288602e-02  2.85312099e-05\n",
      "   9.04468392e-06  4.98054343e-05]\n",
      " [-1.00000000e+00  4.64483656e+00 -9.57740472e-02  1.04299233e-05\n",
      "   9.43017529e-06  4.07493527e-05]\n",
      " [-1.00000000e+00  4.65750332e+00 -1.02507554e-01  2.07930334e-05\n",
      "   3.95266103e-05  4.28359871e-05]]\n",
      "2000\n",
      "mksamplefits3_single_star/dataset/frame00001\n",
      "center_frame00001.csv\n",
      "plate_frame00001.csv\n",
      "1\n",
      "[[-1.00000000e+00  4.64687383e+00 -9.55758431e-02  3.85391903e-05\n",
      "   3.52756613e-05  3.65979487e-05]\n",
      " [-1.00000000e+00  4.65138149e+00 -9.01716796e-02  2.66450707e-05\n",
      "   4.00768546e-06  2.27972941e-05]\n",
      " [-1.00000000e+00  4.64534257e+00 -8.80898088e-02  4.73539003e-05\n",
      "   1.67675388e-05  1.54702965e-05]\n",
      " ...\n",
      " [-1.00000000e+00  4.64875331e+00 -9.97288602e-02  2.85312099e-05\n",
      "   9.04468392e-06  4.98054343e-05]\n",
      " [-1.00000000e+00  4.64483656e+00 -9.57740472e-02  1.04299233e-05\n",
      "   9.43017529e-06  4.07493527e-05]\n",
      " [-1.00000000e+00  4.65750332e+00 -1.02507554e-01  2.07930334e-05\n",
      "   3.95266103e-05  4.28359871e-05]]\n",
      "2000\n"
     ]
    }
   ],
   "source": [
    "for large_frame_info in large_frame_info_list:\n",
    "    large_frame_info.directory\n",
    "    print(large_frame_info.directory)\n",
    "    print(large_frame_info.get_star_center_file_name())\n",
    "    print(large_frame_info.get_plate_parameter_file_name())\n",
    "    print(plate_id_offset)\n",
    "    print(known_star_params)\n",
    "    print(psf_brightness_threshold)"
   ]
  },
  {
   "cell_type": "code",
   "execution_count": 16,
   "metadata": {},
   "outputs": [],
   "source": [
    "def estimate_center_from_one_large_frame(directory, output_center_csv_name, output_plate_csv_name, plate_id_offset, known_star_params, psf_brightness_threshold):\n",
    "    \n",
    "    large_frame_processor = LargeFrameProcessor(\n",
    "            plate_id_offset=plate_id_offset,\n",
    "            directory=directory,\n",
    "            dpixel=dpixel,\n",
    "            star_image_size=star_image_size\n",
    "    )\n",
    "    print(psf_brightness_threshold)\n",
    "    \n",
    "\n",
    "    center_calculator = CenterCalculator(\n",
    "        center_iteration=center_iteration[0],\n",
    "        x_magnification=x_magnification[0],\n",
    "        y_magnification=y_magnification[0],\n",
    "        max_iteration=center_iteration[0],\n",
    "        psf_brightness_threshold=psf_brightness_threshold\n",
    "    )\n",
    "    print(lighter_star_same_ecliptic_range)\n",
    "    print(brighter_threshold[0])\n",
    "    \n",
    "    brighter_star_position_in_pixel, extracted_brighter_star_image_list = \\\n",
    "    large_frame_processor.execute(\n",
    "            same_star_ecliptic_range=lighter_star_same_ecliptic_range,\n",
    "            binary_threshold=brighter_threshold\n",
    "    )\n",
    "    \n",
    "    return \\\n",
    "    brighter_star_position_in_pixel, \\\n",
    "    extracted_brighter_star_image_list"
   ]
  },
  {
   "cell_type": "markdown",
   "metadata": {},
   "source": [
    "# Have a detailed look at the first element of large_frame_info_list"
   ]
  },
  {
   "cell_type": "code",
   "execution_count": 17,
   "metadata": {},
   "outputs": [],
   "source": [
    "large_frame_info = large_frame_info_list[0]"
   ]
  },
  {
   "cell_type": "code",
   "execution_count": 18,
   "metadata": {},
   "outputs": [
    {
     "data": {
      "text/plain": [
       "'mksamplefits3_single_star/dataset/frame00000'"
      ]
     },
     "execution_count": 18,
     "metadata": {},
     "output_type": "execute_result"
    }
   ],
   "source": [
    "large_frame_info.directory"
   ]
  },
  {
   "cell_type": "code",
   "execution_count": 19,
   "metadata": {},
   "outputs": [
    {
     "name": "stdout",
     "output_type": "stream",
     "text": [
      "2000\n",
      "5.2000000000000004e-05\n",
      "20000\n"
     ]
    },
    {
     "name": "stderr",
     "output_type": "stream",
     "text": [
      "2021-01-14 19:03:20,372  INFO  image.large_frame_processor : 10 stars are found in \"mksamplefits3_single_star/dataset/frame00000/plate000.fits\" with binary threshold 20000.\n",
      "2021-01-14 19:03:20,596  INFO  image.large_frame_processor : 10 stars are found in \"mksamplefits3_single_star/dataset/frame00000/plate001.fits\" with binary threshold 20000.\n",
      "2021-01-14 19:03:20,825  INFO  image.large_frame_processor : 10 stars are found in \"mksamplefits3_single_star/dataset/frame00000/plate002.fits\" with binary threshold 20000.\n",
      "2021-01-14 19:03:21,050  INFO  image.large_frame_processor : 10 stars are found in \"mksamplefits3_single_star/dataset/frame00000/plate003.fits\" with binary threshold 20000.\n",
      "2021-01-14 19:03:21,278  INFO  image.large_frame_processor : 10 stars are found in \"mksamplefits3_single_star/dataset/frame00000/plate004.fits\" with binary threshold 20000.\n",
      "2021-01-14 19:03:21,505  INFO  image.large_frame_processor : 11 stars are found in \"mksamplefits3_single_star/dataset/frame00000/plate005.fits\" with binary threshold 20000.\n"
     ]
    }
   ],
   "source": [
    "directory, output_center_csv_name, output_plate_csv_name, plate_id_offset, known_star_params, psf_brightness_threshold = \\\n",
    "large_frame_info.directory, \\\n",
    "large_frame_info.get_star_center_file_name(), \\\n",
    "large_frame_info.get_plate_parameter_file_name(), \\\n",
    "plate_id_offset, \\\n",
    "known_star_params, \\\n",
    "psf_brightness_threshold\n",
    "    \n",
    "large_frame_processor = LargeFrameProcessor(\n",
    "            plate_id_offset=plate_id_offset,\n",
    "            directory=directory,\n",
    "            dpixel=dpixel,\n",
    "            star_image_size=star_image_size\n",
    ")\n",
    "print(psf_brightness_threshold)\n",
    "    \n",
    "\n",
    "center_calculator = CenterCalculator(\n",
    "        center_iteration=center_iteration,\n",
    "        x_magnification=x_magnification,\n",
    "        y_magnification=y_magnification,\n",
    "        max_iteration=center_iteration,\n",
    "        psf_brightness_threshold=psf_brightness_threshold\n",
    ")\n",
    "print(lighter_star_same_ecliptic_range)\n",
    "print(brighter_threshold)\n",
    "    \n",
    "brighter_star_position_in_pixel, extracted_brighter_star_image_list = \\\n",
    "large_frame_processor.execute(\n",
    "            same_star_ecliptic_range=lighter_star_same_ecliptic_range,\n",
    "            binary_threshold=brighter_threshold\n",
    ")\n",
    "    \n"
   ]
  },
  {
   "cell_type": "code",
   "execution_count": 20,
   "metadata": {},
   "outputs": [],
   "source": [
    "# estimate center position for brighter stars\n",
    "brighter_star_position_in_pixel = brighter_star_position_in_pixel[:, [0, 1, 4, 5]]\n",
    "        "
   ]
  },
  {
   "cell_type": "code",
   "execution_count": 20,
   "metadata": {
    "scrolled": true
   },
   "outputs": [],
   "source": [
    "brighter_star_position_in_pixel"
   ]
  },
  {
   "cell_type": "markdown",
   "metadata": {},
   "source": [
    "## The following cell takes 3 minutes..."
   ]
  },
  {
   "cell_type": "code",
   "execution_count": 25,
   "metadata": {},
   "outputs": [],
   "source": [
    "star_pixel_position_with_errors, psf_coefficient = center_calculator.execute(\n",
    "            star_positions_in_pixel=brighter_star_position_in_pixel,\n",
    "            all_extracted_star_images=extracted_brighter_star_image_list\n",
    ")"
   ]
  },
  {
   "cell_type": "code",
   "execution_count": 22,
   "metadata": {},
   "outputs": [],
   "source": [
    "star_pixel_position_with_errors"
   ]
  },
  {
   "cell_type": "code",
   "execution_count": 26,
   "metadata": {},
   "outputs": [],
   "source": [
    "psf_coefficient"
   ]
  },
  {
   "cell_type": "markdown",
   "metadata": {},
   "source": [
    "## We define saved_star_pixel_position_with_errors so that we can save the original array star_pixel_position_with_errors beforee it is overwritten. "
   ]
  },
  {
   "cell_type": "code",
   "execution_count": 25,
   "metadata": {},
   "outputs": [],
   "source": [
    "saved_star_pixel_position_with_errors = star_pixel_position_with_errors*1.\n",
    "saved_psf_coefficient = psf_coefficient*1."
   ]
  },
  {
   "cell_type": "code",
   "execution_count": 26,
   "metadata": {},
   "outputs": [
    {
     "data": {
      "image/png": "[encoded data removed]",
      "text/plain": [
       "<Figure size 432x288 with 1 Axes>"
      ]
     },
     "metadata": {
      "needs_background": "light"
     },
     "output_type": "display_data"
    }
   ],
   "source": [
    "pyplot.plot(star_pixel_position_with_errors[:,2],\n",
    "            star_pixel_position_with_errors[:,3], '.', ls='None')\n",
    "pyplot.xlabel(r'star_pixel_position_with_errors[:,2]')\n",
    "pyplot.ylabel(r'star_pixel_position_with_errors[:,3]')\n",
    "\n",
    "pyplot.show()"
   ]
  },
  {
   "cell_type": "code",
   "execution_count": 27,
   "metadata": {},
   "outputs": [
    {
     "name": "stdout",
     "output_type": "stream",
     "text": [
      "1\n",
      "2\n",
      "3\n",
      "4\n",
      "5\n",
      "6\n"
     ]
    },
    {
     "data": {
      "image/png": "[encoded data removed]",
      "text/plain": [
       "<Figure size 432x288 with 1 Axes>"
      ]
     },
     "metadata": {
      "needs_background": "light"
     },
     "output_type": "display_data"
    }
   ],
   "source": [
    "list_marker = ['.','o','+','x','s','^',]*10 # (It can handle up to 60 frames.)\n",
    "for i_frame in range(1,7):# 6 frames\n",
    "    print(i_frame)\n",
    "    filter_tmp_plate_i = np.isclose(star_pixel_position_with_errors[:,0], i_frame)\n",
    "\n",
    "\n",
    "    pyplot.plot(star_pixel_position_with_errors[filter_tmp_plate_i,2],\n",
    "                star_pixel_position_with_errors[filter_tmp_plate_i,3],\n",
    "                marker=list_marker[i_frame-1], ls='None', label='frame %d' % (i_frame))\n",
    "\n",
    "pyplot.xlabel(r'star_pixel_position_with_errors[:,2]')\n",
    "pyplot.ylabel(r'star_pixel_position_with_errors[:,3]')\n",
    "pyplot.legend(bbox_to_anchor=(1.05, 1), )\n",
    "pyplot.show()"
   ]
  },
  {
   "cell_type": "markdown",
   "metadata": {},
   "source": [
    "# Possible location of the bug"
   ]
  },
  {
   "cell_type": "markdown",
   "metadata": {},
   "source": [
    "## The function __overwrite_pixel_error_to_ecliptic is suspicious..."
   ]
  },
  {
   "cell_type": "code",
   "execution_count": 28,
   "metadata": {},
   "outputs": [],
   "source": [
    "\n",
    "def __overwrite_pixel_error_to_ecliptic(star_pixel_position_with_errors):\n",
    "    errors = star_pixel_position_with_errors[:, CenterCalculator.X_ERROR_INDEX:CenterCalculator.Y_ERROR_INDEX + 1]\n",
    "    errors *= dpixel\n",
    "    star_pixel_position_with_errors[:, CenterCalculator.X_ERROR_INDEX:CenterCalculator.Y_ERROR_INDEX + 1] = errors\n"
   ]
  },
  {
   "cell_type": "markdown",
   "metadata": {},
   "source": [
    "If you want to check\n",
    "\n",
    "- the behavior of the code with __overwrite_pixel_error_to_ecliptic enabled \n",
    "- the behavior of the code with __overwrite_pixel_error_to_ecliptic disabled\n",
    "\n",
    "you need to set \n",
    "\n",
    "- TEST_overwrite = True\n",
    "- TEST_overwrite = False\n",
    "\n",
    "respectively.\n"
   ]
  },
  {
   "cell_type": "code",
   "execution_count": 29,
   "metadata": {},
   "outputs": [],
   "source": [
    "TEST_overwrite = True # Default; This results in large values in c_vector.\n",
    "#TEST_overwrite = False \n",
    "\n"
   ]
  },
  {
   "cell_type": "code",
   "execution_count": null,
   "metadata": {},
   "outputs": [],
   "source": []
  },
  {
   "cell_type": "code",
   "execution_count": 30,
   "metadata": {},
   "outputs": [
    {
     "name": "stdout",
     "output_type": "stream",
     "text": [
      "__overwrite_pixel_error_to_ecliptic is enabled.\n"
     ]
    }
   ],
   "source": [
    "# retry:\n",
    "star_pixel_position_with_errors = saved_star_pixel_position_with_errors *1.\n",
    "psf_coefficient = saved_psf_coefficient*1.\n",
    "\n",
    "if (TEST_overwrite):\n",
    "    print('__overwrite_pixel_error_to_ecliptic is enabled.')\n",
    "    __overwrite_pixel_error_to_ecliptic(star_pixel_position_with_errors=star_pixel_position_with_errors)\n",
    "else:\n",
    "    print('__overwrite_pixel_error_to_ecliptic is disabled.')\n"
   ]
  },
  {
   "cell_type": "code",
   "execution_count": null,
   "metadata": {},
   "outputs": [],
   "source": []
  },
  {
   "cell_type": "code",
   "execution_count": 21,
   "metadata": {
    "scrolled": true
   },
   "outputs": [],
   "source": [
    "star_pixel_position_with_errors"
   ]
  },
  {
   "cell_type": "code",
   "execution_count": 27,
   "metadata": {},
   "outputs": [],
   "source": [
    "saved_star_pixel_position_with_errors"
   ]
  },
  {
   "cell_type": "code",
   "execution_count": 33,
   "metadata": {},
   "outputs": [
    {
     "data": {
      "text/plain": [
       "[<matplotlib.lines.Line2D at 0x11b4585c0>]"
      ]
     },
     "execution_count": 33,
     "metadata": {},
     "output_type": "execute_result"
    },
    {
     "data": {
      "image/png": "[encoded data removed]",
      "text/plain": [
       "<Figure size 432x288 with 1 Axes>"
      ]
     },
     "metadata": {
      "needs_background": "light"
     },
     "output_type": "display_data"
    }
   ],
   "source": [
    "# error is multiplied by a factor.\n",
    "pyplot.plot(star_pixel_position_with_errors[:,4]/saved_star_pixel_position_with_errors[:,4])"
   ]
  },
  {
   "cell_type": "code",
   "execution_count": 34,
   "metadata": {},
   "outputs": [],
   "source": [
    "ecliptic_positions = large_frame_processor.convert_to_ecliptic(\n",
    "star_pixel_position_with_errors=star_pixel_position_with_errors)\n"
   ]
  },
  {
   "cell_type": "code",
   "execution_count": 35,
   "metadata": {
    "scrolled": true
   },
   "outputs": [
    {
     "data": {
      "text/plain": [
       "array([[ 4.64547173, -0.1004345 ],\n",
       "       [ 4.64561729, -0.10064775],\n",
       "       [ 4.6453702 , -0.10077803],\n",
       "       [ 4.64661346, -0.1012821 ],\n",
       "       [ 4.64572395, -0.10129275],\n",
       "       [ 4.64539919, -0.10134215],\n",
       "       [ 4.64579672, -0.10143543],\n",
       "       [ 4.64661341, -0.10214295],\n",
       "       [ 4.64534933, -0.10249484],\n",
       "       [ 4.64515202, -0.10255331],\n",
       "       [ 4.64547206, -0.10043574],\n",
       "       [ 4.6456176 , -0.10064895],\n",
       "       [ 4.64661057, -0.10127915],\n",
       "       [ 4.64572413, -0.10129111],\n",
       "       [ 4.64539927, -0.1013403 ],\n",
       "       [ 4.6457973 , -0.10143698],\n",
       "       [ 4.64516762, -0.10179829],\n",
       "       [ 4.64661348, -0.10214108],\n",
       "       [ 4.64535051, -0.10249775],\n",
       "       [ 4.64515235, -0.10255452],\n",
       "       [ 4.64547218, -0.10043463],\n",
       "       [ 4.64561772, -0.10064788],\n",
       "       [ 4.64537062, -0.10077815],\n",
       "       [ 4.64661162, -0.10128257],\n",
       "       [ 4.64572437, -0.10129285],\n",
       "       [ 4.64539957, -0.10134218],\n",
       "       [ 4.64579718, -0.10143553],\n",
       "       [ 4.64661376, -0.10214294],\n",
       "       [ 4.64534977, -0.10249496],\n",
       "       [ 4.64515246, -0.10255344],\n",
       "       [ 4.64547029, -0.10043486],\n",
       "       [ 4.64561587, -0.10064807],\n",
       "       [ 4.64536881, -0.10077837],\n",
       "       [ 4.64661221, -0.10128268],\n",
       "       [ 4.64572259, -0.10129322],\n",
       "       [ 4.64539787, -0.10134258],\n",
       "       [ 4.64579796, -0.10143573],\n",
       "       [ 4.64661211, -0.10214338],\n",
       "       [ 4.64535098, -0.10249633],\n",
       "       [ 4.64515055, -0.10255366],\n",
       "       [ 4.64547161, -0.10043492],\n",
       "       [ 4.64561717, -0.10064815],\n",
       "       [ 4.64537007, -0.10077843],\n",
       "       [ 4.64661384, -0.1012827 ],\n",
       "       [ 4.64572382, -0.10129317],\n",
       "       [ 4.64539908, -0.10134255],\n",
       "       [ 4.64579659, -0.10143585],\n",
       "       [ 4.6466133 , -0.10214335],\n",
       "       [ 4.64535002, -0.10249858],\n",
       "       [ 4.64515191, -0.1025537 ],\n",
       "       [ 4.64547228, -0.10043614],\n",
       "       [ 4.64561532, -0.10064958],\n",
       "       [ 4.64537062, -0.10077683],\n",
       "       [ 4.64661077, -0.10127947],\n",
       "       [ 4.64572435, -0.10129149],\n",
       "       [ 4.6453995 , -0.1013407 ],\n",
       "       [ 4.64579749, -0.10143732],\n",
       "       [ 4.64516783, -0.10179867],\n",
       "       [ 4.6466137 , -0.10214147],\n",
       "       [ 4.6453505 , -0.10249807],\n",
       "       [ 4.64515257, -0.10255495]])"
      ]
     },
     "execution_count": 35,
     "metadata": {},
     "output_type": "execute_result"
    }
   ],
   "source": [
    "ecliptic_positions"
   ]
  },
  {
   "cell_type": "code",
   "execution_count": 36,
   "metadata": {},
   "outputs": [],
   "source": [
    "star_center_matrix = np.concatenate([\n",
    "            star_pixel_position_with_errors[:, 0:MappedStarObservationsOnPlate.LONGITUDE_INDEX],\n",
    "            ecliptic_positions,\n",
    "            star_pixel_position_with_errors[:, MappedStarObservationsOnPlate.LONGITUDE_INDEX:]\n",
    "], axis=1)"
   ]
  },
  {
   "cell_type": "code",
   "execution_count": 23,
   "metadata": {
    "scrolled": true
   },
   "outputs": [],
   "source": [
    "star_center_matrix"
   ]
  },
  {
   "cell_type": "code",
   "execution_count": 38,
   "metadata": {},
   "outputs": [],
   "source": [
    "mapped_star_positions = MappedStarObservationsOnPlate(star_center_matrix=star_center_matrix)\n"
   ]
  },
  {
   "cell_type": "code",
   "execution_count": 39,
   "metadata": {},
   "outputs": [
    {
     "name": "stderr",
     "output_type": "stream",
     "text": [
      "2021-01-14 12:43:27,178  INFO  __main__ : 11 known stars are applied.\n"
     ]
    }
   ],
   "source": [
    "\n",
    "# If not mapped yet, map blighter stars and known stars\n",
    "if len(known_star_params) != 0 and known_star_params[0, 0] < 0:\n",
    "    known_star_params = LargeFrameProcessor.map_known_stars(\n",
    "                all_star_position=star_center_matrix,\n",
    "                known_star_params=known_star_params,\n",
    "                same_star_ecliptic_range=known_stars_ecliptic_neighborhood\n",
    "    )\n",
    "    logger.info('%d known stars are applied.', len(known_star_params))\n"
   ]
  },
  {
   "cell_type": "code",
   "execution_count": 40,
   "metadata": {},
   "outputs": [
    {
     "data": {
      "text/plain": [
       "array([[ 7.00000000e+00,  4.64579883e+00, -1.01435491e-01,\n",
       "         3.07744946e-05,  4.14946088e-05,  4.17334882e-05],\n",
       "       [ 3.00000000e+00,  4.64537077e+00, -1.00776171e-01,\n",
       "         2.94984693e-05,  4.74771806e-05,  9.01165615e-06],\n",
       "       [ 4.00000000e+00,  4.64661284e+00, -1.01280098e-01,\n",
       "         1.10035561e-06,  1.55943887e-06,  4.40834149e-05],\n",
       "       [ 1.10000000e+01,  4.64516869e+00, -1.01797447e-01,\n",
       "         4.35283201e-05,  4.68579008e-05,  1.95043346e-05],\n",
       "       [ 5.00000000e+00,  4.64572467e+00, -1.01290897e-01,\n",
       "         3.54672562e-05,  3.01499243e-05,  4.19518375e-05],\n",
       "       [ 9.00000000e+00,  4.64535117e+00, -1.02495692e-01,\n",
       "         4.92086085e-05,  3.39407283e-05,  3.39350733e-05],\n",
       "       [ 1.00000000e+00,  4.64547259e+00, -1.00434281e-01,\n",
       "         1.82441195e-05,  2.53214946e-05,  1.04189283e-05],\n",
       "       [ 2.00000000e+00,  4.64561747e+00, -1.00647784e-01,\n",
       "         3.89586797e-05,  9.54204166e-06,  2.68420093e-05],\n",
       "       [ 8.00000000e+00,  4.64661394e+00, -1.02140955e-01,\n",
       "         2.71718875e-05,  2.26906162e-05,  1.31190516e-05],\n",
       "       [ 6.00000000e+00,  4.64539976e+00, -1.01340020e-01,\n",
       "         3.88995431e-05,  3.97827157e-05,  8.61641564e-07],\n",
       "       [ 1.00000000e+01,  4.64515268e+00, -1.02553514e-01,\n",
       "         3.57240456e-05,  2.36880107e-05,  2.39446914e-05]])"
      ]
     },
     "execution_count": 40,
     "metadata": {},
     "output_type": "execute_result"
    }
   ],
   "source": [
    "known_star_params"
   ]
  },
  {
   "cell_type": "code",
   "execution_count": null,
   "metadata": {},
   "outputs": [],
   "source": []
  },
  {
   "cell_type": "code",
   "execution_count": 41,
   "metadata": {},
   "outputs": [],
   "source": [
    "\n",
    "def create_blighter_initial_parameters(star_positions, exp_term_number):\n",
    "    \"\"\"\n",
    "        Create initial values for calculating distortion parameters using brighter stars.\n",
    "        Plate parameters (c and d) are calculated from 3 stars in each plate.\n",
    "\n",
    "        Parameters\n",
    "        ----------\n",
    "        star_positions: MappedStarObservationsOnPlate\n",
    "            Star positions\n",
    "        exp_term_number: int\n",
    "            Plate parameter size (value assumes 1)\n",
    "\n",
    "        Returns\n",
    "        -------\n",
    "        initial_parameters: DistortionParameters\n",
    "            Initial values\n",
    "    \"\"\"\n",
    "\n",
    "    # calculate coordinate average for each star\n",
    "    lambda_vector, beta_vector = __average_for_each_star_id(\n",
    "            unique_star_ids=star_positions.get_star_id_list(),\n",
    "            star_index_list=star_positions.get_star_index_list(),\n",
    "            lambda_list=star_positions.get_x_list(),\n",
    "            beta_list=star_positions.get_y_list()\n",
    "    )\n",
    "\n",
    "    star_id_index = 1\n",
    "    x_index = 2\n",
    "    y_index = 3\n",
    "\n",
    "    # calculate initial value of c_vector and d_vector for each plate\n",
    "    c_vector = []\n",
    "    d_vector = []\n",
    "    for plate_index, plate_id in enumerate(np.unique(star_positions.get_plate_id_list())):\n",
    "        same_plate_records = star_positions.get_records_by_plate_id(plate_id)\n",
    "        if same_plate_records.shape[0] >= 3:\n",
    "            # plate parameters can be calculated\n",
    "            index1 = star_positions.get_star_id_mapping().get(int(same_plate_records[0, star_id_index]))\n",
    "            index2 = star_positions.get_star_id_mapping().get(int(same_plate_records[1, star_id_index]))\n",
    "            index3 = star_positions.get_star_id_mapping().get(int(same_plate_records[2, star_id_index]))\n",
    "            parameter_matrix = np.array([\n",
    "                    1.0,\n",
    "                    float(lambda_vector[index1]),\n",
    "                    float(beta_vector[index1]),\n",
    "                    1.0,\n",
    "                    float(lambda_vector[index2]),\n",
    "                    float(beta_vector[index2]),\n",
    "                    1.0,\n",
    "                    float(lambda_vector[index3]),\n",
    "                    float(beta_vector[index3])\n",
    "            ]).reshape(3, 3)\n",
    "            parameter_matrix = np.linalg.pinv(parameter_matrix)\n",
    "            c_vector_in_plate = np.matmul(parameter_matrix, np.array(same_plate_records[0:3, x_index]))\n",
    "            d_vector_in_plate = np.matmul(parameter_matrix, np.array(same_plate_records[0:3, y_index]))\n",
    "        else:\n",
    "            # plate parameters cannot be calculated\n",
    "            logger.debug('Stars is too few to decide initial plate parameter. plate_id=%d, stars=%d',\n",
    "                             plate_id, same_plate_records.shape[0])\n",
    "            c_vector_in_plate = np.random.rand(3) - 0.5\n",
    "            d_vector_in_plate = np.random.rand(3) - 0.5\n",
    "        c_vector.extend(c_vector_in_plate.tolist())\n",
    "        d_vector.extend(d_vector_in_plate.tolist())\n",
    "\n",
    "    c_vector = np.array(c_vector)\n",
    "    d_vector = np.array(d_vector)\n",
    "    c_common_vector = np.zeros(int((exp_term_number + 1) * (exp_term_number + 2) / 2 - 3))\n",
    "    d_common_vector = np.zeros(int((exp_term_number + 1) * (exp_term_number + 2) / 2 - 3))\n",
    "\n",
    "    return DistortionParameters(lambda_vector, beta_vector, c_vector, d_vector, c_common_vector, d_common_vector)\n"
   ]
  },
  {
   "cell_type": "code",
   "execution_count": 42,
   "metadata": {},
   "outputs": [],
   "source": [
    "def __average_for_each_star_id(unique_star_ids, star_index_list, lambda_list, beta_list):\n",
    "    \"\"\"\n",
    "        Calculate average of lambda and beta value for each star.\n",
    "\n",
    "        Parameters\n",
    "        ----------\n",
    "        unique_star_ids: np.array (1 order)\n",
    "            Unique star ID list (ordered)\n",
    "\n",
    "        Returns\n",
    "        -------\n",
    "        lambda_vector: np.array (1 order)\n",
    "            Average value of lambda (array length is same to star ids)\n",
    "        beta_vector: np.array (1 order)\n",
    "            Average value of beta (array length is same to star ids)\n",
    "    \"\"\"\n",
    "    onehot_star_id = np.eye(len(unique_star_ids))[star_index_list]\n",
    "    onehot_star_id[onehot_star_id == 0] = np.nan\n",
    "    onehot_x = lambda_list.reshape(-1, 1) * onehot_star_id\n",
    "    onehot_y = beta_list.reshape(-1, 1) * onehot_star_id\n",
    "    lambda_vector = np.nanmean(onehot_x, axis=0)\n",
    "    beta_vector = np.nanmean(onehot_y, axis=0)\n",
    "    return lambda_vector, beta_vector"
   ]
  },
  {
   "cell_type": "code",
   "execution_count": 43,
   "metadata": {},
   "outputs": [],
   "source": [
    "initial_parameters_tmp = create_blighter_initial_parameters(star_positions=mapped_star_positions,\n",
    "                                                                       exp_term_number=1)"
   ]
  },
  {
   "cell_type": "code",
   "execution_count": 44,
   "metadata": {},
   "outputs": [
    {
     "data": {
      "text/plain": [
       "array([4.64547169, 4.64561683, 4.64537006, 4.64661208, 4.64572387,\n",
       "       4.64539908, 4.64579721, 4.64661329, 4.64535019, 4.64515198,\n",
       "       4.64516773])"
      ]
     },
     "execution_count": 44,
     "metadata": {},
     "output_type": "execute_result"
    }
   ],
   "source": [
    "initial_parameters_tmp.lambda_vector"
   ]
  },
  {
   "cell_type": "code",
   "execution_count": 45,
   "metadata": {},
   "outputs": [
    {
     "data": {
      "text/plain": [
       "array([-0.10043513, -0.1006484 , -0.10077796, -0.10128144, -0.10129243,\n",
       "       -0.10134174, -0.10143614, -0.10214253, -0.10249675, -0.10255393,\n",
       "       -0.10179848])"
      ]
     },
     "execution_count": 45,
     "metadata": {},
     "output_type": "execute_result"
    }
   ],
   "source": [
    "initial_parameters_tmp.beta_vector"
   ]
  },
  {
   "cell_type": "code",
   "execution_count": 46,
   "metadata": {},
   "outputs": [
    {
     "data": {
      "text/plain": [
       "array([-8.04338752e-03,  1.00171450e+00, -7.84395470e-04,  2.81033231e-02,\n",
       "        9.93818302e-01, -6.11286914e-03, -8.17860109e-03,  1.00174516e+00,\n",
       "       -7.16616772e-04, -7.96298479e-03,  1.00169364e+00, -9.34143314e-04,\n",
       "       -8.28508372e-03,  1.00176678e+00, -7.71329298e-04,  4.65759722e-02,\n",
       "        9.90039827e-01,  3.04355648e-03])"
      ]
     },
     "execution_count": 46,
     "metadata": {},
     "output_type": "execute_result"
    }
   ],
   "source": [
    "initial_parameters_tmp.c_vector"
   ]
  },
  {
   "cell_type": "code",
   "execution_count": 47,
   "metadata": {},
   "outputs": [
    {
     "data": {
      "text/plain": [
       "array([-0.00984114,  0.00214864,  1.00139087, -0.02163698,  0.00472084,\n",
       "        1.00292862, -0.0096778 ,  0.00211332,  1.00138467, -0.01061274,\n",
       "        0.00231277,  1.00130317, -0.00999036,  0.00217976,  1.0013484 ,\n",
       "        0.03316956, -0.00722916,  0.99589504])"
      ]
     },
     "execution_count": 47,
     "metadata": {},
     "output_type": "execute_result"
    }
   ],
   "source": [
    "initial_parameters_tmp.d_vector"
   ]
  },
  {
   "cell_type": "code",
   "execution_count": 48,
   "metadata": {},
   "outputs": [
    {
     "data": {
      "text/plain": [
       "array([], dtype=float64)"
      ]
     },
     "execution_count": 48,
     "metadata": {},
     "output_type": "execute_result"
    }
   ],
   "source": [
    "initial_parameters_tmp.c_common_vector"
   ]
  },
  {
   "cell_type": "code",
   "execution_count": 49,
   "metadata": {},
   "outputs": [
    {
     "data": {
      "text/plain": [
       "array([], dtype=float64)"
      ]
     },
     "execution_count": 49,
     "metadata": {},
     "output_type": "execute_result"
    }
   ],
   "source": [
    "initial_parameters_tmp.d_common_vector"
   ]
  },
  {
   "cell_type": "code",
   "execution_count": 50,
   "metadata": {},
   "outputs": [
    {
     "name": "stderr",
     "output_type": "stream",
     "text": [
      "2021-01-14 12:43:36,241  INFO  image.distortion : Preparing least square calculation for star position parameters... (number of stars = 11, number of plates = 6)\n",
      "2021-01-14 12:43:36,242  DEBUG  image.distortion : Known star indices: [ 6.  2.  3. 10.  4.  8.  0.  1.  7.  5.  9.]\n",
      "2021-01-14 12:43:36,244  INFO  image.distortion : Start solving distortion parameters.\n",
      "2021-01-14 12:43:36,285  DEBUG  common.leastsquare : Solving with least square calculation (iteration = 1, norm = 475581.436723)\n",
      "2021-01-14 12:43:36,319  DEBUG  common.leastsquare : Solving with least square calculation (iteration = 2, norm = 2315396.144476)\n",
      "2021-01-14 12:43:36,354  DEBUG  common.leastsquare : Solving with least square calculation (iteration = 3, norm = 2751730.805753)\n",
      "2021-01-14 12:43:36,386  DEBUG  common.leastsquare : Solving with least square calculation (iteration = 4, norm = 1201157985.661090)\n",
      "2021-01-14 12:43:36,417  DEBUG  common.leastsquare : Solving with least square calculation (iteration = 5, norm = 1123545.026737)\n"
     ]
    },
    {
     "name": "stdout",
     "output_type": "stream",
     "text": [
      "star_position_restraint_return_size 22\n"
     ]
    },
    {
     "name": "stderr",
     "output_type": "stream",
     "text": [
      "2021-01-14 12:43:36,452  DEBUG  common.leastsquare : Solving with least square calculation (iteration = 6, norm = 34224617351673.652344)\n",
      "2021-01-14 12:43:36,486  INFO  common.leastsquare : Cannot calculate inverse matrix. Calculate pseudo-inverse matrix instead.\n",
      "2021-01-14 12:43:36,488  DEBUG  common.leastsquare : Solving with least square calculation (iteration = 7, norm = 40682735.310314)\n",
      "2021-01-14 12:43:36,522  INFO  common.leastsquare : Cannot calculate inverse matrix. Calculate pseudo-inverse matrix instead.\n",
      "2021-01-14 12:43:36,523  DEBUG  common.leastsquare : Solving with least square calculation (iteration = 8, norm = 10558.259445)\n",
      "2021-01-14 12:43:36,555  INFO  common.leastsquare : Cannot calculate inverse matrix. Calculate pseudo-inverse matrix instead.\n",
      "2021-01-14 12:43:36,557  DEBUG  common.leastsquare : Solving with least square calculation (iteration = 9, norm = 0.003302)\n",
      "2021-01-14 12:43:36,590  INFO  common.leastsquare : Cannot calculate inverse matrix. Calculate pseudo-inverse matrix instead.\n",
      "2021-01-14 12:43:36,591  DEBUG  common.leastsquare : Solving with least square calculation (iteration = 10, norm = 0.000000)\n",
      "2021-01-14 12:43:36,592  INFO  image.distortion : Solved star position parameters.\n"
     ]
    }
   ],
   "source": [
    "# calculate distortion of plates by using brighter stars\n",
    "distortion_calculator = DistortionCalculator(mapped_star_positions)\n",
    "plate_parameters, plate_parameter_errors = distortion_calculator.calculate(\n",
    "            known_star_params=known_star_params,\n",
    "            max_iteration=position_iteration,\n",
    "            initial_parameters=create_blighter_initial_parameters(star_positions=mapped_star_positions,\n",
    "                                                                       exp_term_number=1)\n",
    "        )"
   ]
  },
  {
   "cell_type": "code",
   "execution_count": 52,
   "metadata": {},
   "outputs": [
    {
     "data": {
      "text/plain": [
       "array([ 1.33554721e+13,  5.61238477e+11, -2.77645903e+12,  1.06379895e+13,\n",
       "        6.15913011e+12, -2.39240496e+12,  1.37831633e+13,  2.03161151e+12,\n",
       "       -2.86519185e+12,  1.30856313e+13, -8.79019137e+11, -2.82728653e+12,\n",
       "        1.57931704e+13, -1.45876022e+12, -3.41544896e+12,  1.20482360e+13,\n",
       "        2.43275484e+12, -2.61639863e+12])"
      ]
     },
     "execution_count": 52,
     "metadata": {},
     "output_type": "execute_result"
    }
   ],
   "source": [
    "plate_parameters.c_vector"
   ]
  },
  {
   "cell_type": "markdown",
   "metadata": {},
   "source": [
    "## Short summary"
   ]
  },
  {
   "cell_type": "markdown",
   "metadata": {},
   "source": [
    "- When TEST_overwrite = True (__overwrite_pixel_error_to_ecliptic is enabled), you will probably get very large plate_parameters.c_vector\n",
    "\n",
    "- When TEST_overwrite = False (__overwrite_pixel_error_to_ecliptic is disabled), this problem seems to disappear. \n",
    "\n",
    "I am not sure if __overwrite_pixel_error_to_ecliptic is working as expected, but just in case I share this information. \n",
    "Hope it helps somebody!\n",
    "\n"
   ]
  },
  {
   "cell_type": "code",
   "execution_count": null,
   "metadata": {},
   "outputs": [],
   "source": []
  }
 ],
 "metadata": {
  "kernelspec": {
   "display_name": "Python 3",
   "language": "python",
   "name": "python3"
  },
  "language_info": {
   "codemirror_mode": {
    "name": "ipython",
    "version": 3
   },
   "file_extension": ".py",
   "mimetype": "text/x-python",
   "name": "python",
   "nbconvert_exporter": "python",
   "pygments_lexer": "ipython3",
   "version": "3.6.8"
  },
  "toc": {
   "base_numbering": 1,
   "nav_menu": {},
   "number_sections": true,
   "sideBar": true,
   "skip_h1_title": false,
   "title_cell": "Table of Contents",
   "title_sidebar": "Contents",
   "toc_cell": false,
   "toc_position": {
    "height": "calc(100% - 180px)",
    "left": "10px",
    "top": "150px",
    "width": "233px"
   },
   "toc_section_display": true,
   "toc_window_display": true
  }
 },
 "nbformat": 4,
 "nbformat_minor": 2
}
